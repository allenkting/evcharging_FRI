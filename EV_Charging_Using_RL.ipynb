{
 "cells": [
  {
   "cell_type": "markdown",
   "metadata": {},
   "source": [
    "# Main Project Notebook"
   ]
  },
  {
   "cell_type": "code",
   "execution_count": 1,
   "metadata": {
    "tags": []
   },
   "outputs": [
    {
     "output_type": "execute_result",
     "data": {
      "text/plain": [
       "  \n",
       "4                     NaN            GPS  40.844188 -73.861572     129   \n",
       "...                   ...            ...        ...        ...     ...   \n",
       "2496  ChargePoint Network            GPS  42.869247 -73.772964  185428   \n",
       "2497  ChargePoint Network            GPS  42.869247 -73.773056  185434   \n",
       "2498  ChargePoint Network            GPS  42.869220 -73.773080  185435   \n",
       "2499           EV Connect          200-8  42.653388 -73.749132  185448   \n",
       "2500           EV Connect            GPS  42.650590 -73.749073  185449   \n",
       "\n",
       "     EV Connector Types Country Access Code  Access Detail Code  \\\n",
       "0                   NaN      US      public  CREDIT_CARD_ALWAYS   \n",
       "1                   NaN      US      public  CREDIT_CARD_ALWAYS   \n",
       "2                   NaN      US      public          KEY_ALWAYS   \n",
       "3                   NaN      US      public          KEY_ALWAYS   \n",
       "4                   NaN      US      public          KEY_ALWAYS   \n",
       "...                 ...     ...         ...                 ...   \n",
       "2496              J1772      US      public                 NaN   \n",
       "2497              J1772      US      public                 NaN   \n",
       "2498              J1772      US      public                 NaN   \n",
       "2499              J1772      US      public                 NaN   \n",
       "2500              J1772      US      public                 NaN   \n",
       "\n",
       "     Federal Agency Code   Facility Type EV Pricing  \n",
       "0                    NaN         UTILITY        NaN  \n",
       "1                    NaN         UTILITY        NaN  \n",
       "2                    NaN         UTILITY        NaN  \n",
       "3                    NaN         UTILITY        NaN  \n",
       "4                    NaN         UTILITY        NaN  \n",
       "...                  ...             ...        ...  \n",
       "2496                 NaN             NaN        NaN  \n",
       "2497                 NaN             NaN        NaN  \n",
       "2498                 NaN             NaN        NaN  \n",
       "2499                 NaN  PARKING_GARAGE        NaN  \n",
       "2500                 NaN  PARKING_GARAGE        NaN  \n",
       "\n",
       "[2501 rows x 24 columns]"
      ],
      "text/html": "<div>\n<style scoped>\n    .dataframe tbody tr th:only-of-type {\n        vertical-align: middle;\n    }\n\n    .dataframe tbody tr th {\n        vertical-align: top;\n    }\n\n    .dataframe thead th {\n        text-align: right;\n    }\n</style>\n<table border=\"1\" class=\"dataframe\">\n  <thead>\n    <tr style=\"text-align: right;\">\n      <th></th>\n      <th>Fuel Type Code</th>\n      <th>Station Name</th>\n      <th>Street Address</th>\n      <th>City</th>\n      <th>State</th>\n      <th>ZIP</th>\n      <th>Status Code</th>\n      <th>Access Days Time</th>\n      <th>EV Level1 EVSE Num</th>\n      <th>EV Level2 EVSE Num</th>\n      <th>EV DC Fast Count</th>\n      <th>EV Other Info</th>\n      <th>EV Network</th>\n      <th>Geocode Status</th>\n      <th>Latitude</th>\n      <th>Longitude</th>\n      <th>ID</th>\n      <th>EV Connector Types</th>\n      <th>Country</th>\n      <th>Access Code</th>\n      <th>Access Detail Code</th>\n      <th>Federal Agency Code</th>\n      <th>Facility Type</th>\n      <th>EV Pricing</th>\n    </tr>\n  </thead>\n  <tbody>\n    <tr>\n      <th>0</th>\n      <td>CNG</td>\n      <td>Clean Energy - Greenpoint - National Grid</td>\n      <td>287 Maspeth Ave</td>\n      <td>Brooklyn</td>\n      <td>NY</td>\n      <td>11211</td>\n      <td>E</td>\n      <td>24 hours daily; call 866-809-4869 for Clean En...</td>\n      <td>NaN</td>\n      <td>NaN</td>\n      <td>NaN</td>\n      <td>NaN</td>\n      <td>NaN</td>\n      <td>200-8</td>\n      <td>40.718037</td>\n      <td>-73.932309</td>\n      <td>108</td>\n      <td>NaN</td>\n      <td>US</td>\n      <td>public</td>\n      <td>CREDIT_CARD_ALWAYS</td>\n      <td>NaN</td>\n      <td>UTILITY</td>\n      <td>NaN</td>\n    </tr>\n    <tr>\n      <th>1</th>\n      <td>CNG</td>\n      <td>Clean Energy - Canarsie - National Grid</td>\n      <td>8424 Ditmas Ave</td>\n      <td>Brooklyn</td>\n      <td>NY</td>\n      <td>11236</td>\n      <td>E</td>\n      <td>24 hours daily; call 866-809-4869 for Clean En...</td>\n      <td>NaN</td>\n      <td>NaN</td>\n      <td>NaN</td>\n      <td>NaN</td>\n      <td>NaN</td>\n      <td>200-8</td>\n      <td>40.645540</td>\n      <td>-73.918344</td>\n      <td>112</td>\n      <td>NaN</td>\n      <td>US</td>\n      <td>public</td>\n      <td>CREDIT_CARD_ALWAYS</td>\n      <td>NaN</td>\n      <td>UTILITY</td>\n      <td>NaN</td>\n    </tr>\n    <tr>\n      <th>2</th>\n      <td>CNG</td>\n      <td>Con Edison - W 29th St Service Center</td>\n      <td>281 11th Ave</td>\n      <td>New York</td>\n      <td>NY</td>\n      <td>10001</td>\n      <td>E</td>\n      <td>24 hours daily; call 718-204-4100 to arrange f...</td>\n      <td>NaN</td>\n      <td>NaN</td>\n      <td>NaN</td>\n      <td>NaN</td>\n      <td>NaN</td>\n      <td>200-9</td>\n      <td>40.752903</td>\n      <td>-74.005831</td>\n      <td>124</td>\n      <td>NaN</td>\n      <td>US</td>\n      <td>public</td>\n      <td>KEY_ALWAYS</td>\n      <td>NaN</td>\n      <td>UTILITY</td>\n      <td>NaN</td>\n    </tr>\n    <tr>\n      <th>3</th>\n      <td>CNG</td>\n      <td>Con Edison - E 16th St Service Center</td>\n      <td>700 E 16th St</td>\n      <td>New York</td>\n      <td>NY</td>\n      <td>10009</td>\n      <td>E</td>\n      <td>24 hours daily; call 718-204-4048 to arrange f...</td>\n      <td>NaN</td>\n      <td>NaN</td>\n      <td>NaN</td>\n      <td>NaN</td>\n      <td>NaN</td>\n      <td>200-8</td>\n      <td>40.729175</td>\n      <td>-73.973310</td>\n      <td>125</td>\n      <td>NaN</td>\n      <td>US</td>\n      <td>public</td>\n      <td>KEY_ALWAYS</td>\n      <td>NaN</td>\n      <td>UTILITY</td>\n      <td>NaN</td>\n    </tr>\n    <tr>\n      <th>4</th>\n      <td>CNG</td>\n      <td>Con Edison - Van Nest Service Center</td>\n      <td>1615 Bronxdale Ave</td>\n      <td>Bronx</td>\n      <td>NY</td>\n      <td>10462</td>\n      <td>E</td>\n      <td>8am-6pm M-F, call 718-204-4048 to arrange for ...</td>\n      <td>NaN</td>\n      <td>NaN</td>\n      <td>NaN</td>\n      <td>NaN</td>\n      <td>NaN</td>\n      <td>GPS</td>\n      <td>40.844188</td>\n      <td>-73.861572</td>\n      <td>129</td>\n      <td>NaN</td>\n      <td>US</td>\n      <td>public</td>\n      <td>KEY_ALWAYS</td>\n      <td>NaN</td>\n      <td>UTILITY</td>\n      <td>NaN</td>\n    </tr>\n    <tr>\n      <th>...</th>\n      <td>...</td>\n      <td>...</td>\n      <td>...</td>\n      <td>...</td>\n      <td>...</td>\n      <td>...</td>\n      <td>...</td>\n      <td>...</td>\n      <td>...</td>\n      <td>...</td>\n      <td>...</td>\n      <td>...</td>\n      <td>...</td>\n      <td>...</td>\n      <td>...</td>\n      <td>...</td>\n      <td>...</td>\n      <td>...</td>\n      <td>...</td>\n      <td>...</td>\n      <td>...</td>\n      <td>...</td>\n      <td>...</td>\n      <td>...</td>\n    </tr>\n    <tr>\n      <th>2496</th>\n      <td>ELEC</td>\n      <td>1741 RT 9 EV 2</td>\n      <td>1741 U.S. 9</td>\n      <td>Clifton Park</td>\n      <td>NY</td>\n      <td>12065</td>\n      <td>E</td>\n      <td>24 hours daily</td>\n      <td>NaN</td>\n      <td>2.0</td>\n      <td>NaN</td>\n      <td>NaN</td>\n      <td>ChargePoint Network</td>\n      <td>GPS</td>\n      <td>42.869247</td>\n      <td>-73.772964</td>\n      <td>185428</td>\n      <td>J1772</td>\n      <td>US</td>\n      <td>public</td>\n      <td>NaN</td>\n      <td>NaN</td>\n      <td>NaN</td>\n      <td>NaN</td>\n    </tr>\n    <tr>\n      <th>2497</th>\n      <td>ELEC</td>\n      <td>1741 RT 9 EV 4</td>\n      <td>1741 U.S. 9</td>\n      <td>Clifton Park</td>\n      <td>NY</td>\n      <td>12065</td>\n      <td>E</td>\n      <td>24 hours daily</td>\n      <td>NaN</td>\n      <td>2.0</td>\n      <td>NaN</td>\n      <td>NaN</td>\n      <td>ChargePoint Network</td>\n      <td>GPS</td>\n      <td>42.869247</td>\n      <td>-73.773056</td>\n      <td>185434</td>\n      <td>J1772</td>\n      <td>US</td>\n      <td>public</td>\n      <td>NaN</td>\n      <td>NaN</td>\n      <td>NaN</td>\n      <td>NaN</td>\n    </tr>\n    <tr>\n      <th>2498</th>\n      <td>ELEC</td>\n      <td>1741 RT 9 EV 3</td>\n      <td>1741 U.S. 9</td>\n      <td>Clifton Park</td>\n      <td>NY</td>\n      <td>12065</td>\n      <td>E</td>\n      <td>24 hours daily</td>\n      <td>NaN</td>\n      <td>2.0</td>\n      <td>NaN</td>\n      <td>NaN</td>\n      <td>ChargePoint Network</td>\n      <td>GPS</td>\n      <td>42.869220</td>\n      <td>-73.773080</td>\n      <td>185435</td>\n      <td>J1772</td>\n      <td>US</td>\n      <td>public</td>\n      <td>NaN</td>\n      <td>NaN</td>\n      <td>NaN</td>\n      <td>NaN</td>\n    </tr>\n    <tr>\n      <th>2499</th>\n      <td>ELEC</td>\n      <td>Albany Parking Authority</td>\n      <td>25 Orange St</td>\n      <td>Albany</td>\n      <td>NY</td>\n      <td>12207</td>\n      <td>E</td>\n      <td>24 hours daily; also Accepts PayPal</td>\n      <td>NaN</td>\n      <td>9.0</td>\n      <td>NaN</td>\n      <td>NaN</td>\n      <td>EV Connect</td>\n      <td>200-8</td>\n      <td>42.653388</td>\n      <td>-73.749132</td>\n      <td>185448</td>\n      <td>J1772</td>\n      <td>US</td>\n      <td>public</td>\n      <td>NaN</td>\n      <td>NaN</td>\n      <td>PARKING_GARAGE</td>\n      <td>NaN</td>\n    </tr>\n    <tr>\n      <th>2500</th>\n      <td>ELEC</td>\n      <td>Albany Parking Authority</td>\n      <td>2 Columbia St</td>\n      <td>Albany</td>\n      <td>NY</td>\n      <td>12207</td>\n      <td>E</td>\n      <td>24 hours daily</td>\n      <td>NaN</td>\n      <td>5.0</td>\n      <td>NaN</td>\n      <td>NaN</td>\n      <td>EV Connect</td>\n      <td>GPS</td>\n      <td>42.650590</td>\n      <td>-73.749073</td>\n      <td>185449</td>\n      <td>J1772</td>\n      <td>US</td>\n      <td>public</td>\n      <td>NaN</td>\n      <td>NaN</td>\n      <td>PARKING_GARAGE</td>\n      <td>NaN</td>\n    </tr>\n  </tbody>\n</table>\n<p>2501 rows × 24 columns</p>\n</div>"
     },
     "metadata": {},
     "execution_count": 1
    }
   ],
   "source": [
    "import pandas as pd\n",
    "import numpy as np \n",
    "\n",
    "pd.set_option(\"display.max_columns\", None)\n",
    "data1 = pd.read_csv('station_locations_AFDC.csv')\n",
    "data1.columns\n",
    "\n",
    "data1 = data1[['Fuel Type Code', 'Station Name', 'Street Address', 'City', 'State', 'ZIP','Status Code', \n",
    "                      'Access Days Time', 'EV Level1 EVSE Num', 'EV Level2 EVSE Num', 'EV DC Fast Count', 'EV Other Info', \n",
    "                      'EV Network', 'Geocode Status', 'Latitude', 'Longitude','ID', 'EV Connector Types', 'Country', \n",
    "                      'Access Code', 'Access Detail Code', 'Federal Agency Code', 'Facility Type', 'EV Pricing']]\n",
    "data1[data1['City'] == 'New York']\n",
    "data1.sort_values(by=['ID'])"
   ]
  },
  {
   "cell_type": "code",
   "execution_count": 2,
   "metadata": {},
   "outputs": [
    {
     "output_type": "execute_result",
     "data": {
      "text/plain": [
       "            ...              ...      ...   \n",
       "2381    Capital Region  Saratoga County    12065   \n",
       "2382       Long Island   Suffolk County    11777   \n",
       "2383    Capital Region    Albany County    12205   \n",
       "2384    Capital Region    Albany County    12205   \n",
       "2385    Capital Region    Albany County    12205   \n",
       "\n",
       "                         Station Name      ID  Level 2 Ports  \\\n",
       "0                   AAA Car Care Plus   42992            1.0   \n",
       "1                   AAA Car Care Plus   42993            1.0   \n",
       "2                      Thruway Nissan   44174            1.0   \n",
       "3                Country Club Imports   44176            2.0   \n",
       "4                    West-Herr Nissan   44178            1.0   \n",
       "...                               ...     ...            ...   \n",
       "2381                    1741 RT 9 EV5  185581            2.0   \n",
       "2382                  Mather Hospital  185627            4.0   \n",
       "2383    159 WOLF OFFBLD 159 WOLF LEFT  185651            2.0   \n",
       "2384   159 WOLF OFFBLD 159 WOLF RIGHT  185652            2.0   \n",
       "2385  159 WOLF OFFBLD 159 WOLF MIDDLE  185654            2.0   \n",
       "\n",
       "      Level 2 Locations  DCFC Ports  DCFC Locations           EV Network  \n",
       "0                   1.0         NaN             NaN        Non-Networked  \n",
       "1                   1.0         NaN             NaN        Non-Networked  \n",
       "2                   1.0         NaN             NaN        Non-Networked  \n",
       "3                   1.0         2.0             1.0        Non-Networked  \n",
       "4                   1.0         NaN             NaN        Non-Networked  \n",
       "...                 ...         ...             ...                  ...  \n",
       "2381                1.0         NaN             NaN  ChargePoint Network  \n",
       "2382                1.0         NaN             NaN           EV Connect  \n",
       "2383                1.0         NaN             NaN  ChargePoint Network  \n",
       "2384                1.0         NaN             NaN  ChargePoint Network  \n",
       "2385                1.0         NaN             NaN  ChargePoint Network  \n",
       "\n",
       "[2386 rows x 10 columns]"
      ],
      "text/html": "<div>\n<style scoped>\n    .dataframe tbody tr th:only-of-type {\n        vertical-align: middle;\n    }\n\n    .dataframe tbody tr th {\n        vertical-align: top;\n    }\n\n    .dataframe thead th {\n        text-align: right;\n    }\n</style>\n<table border=\"1\" class=\"dataframe\">\n  <thead>\n    <tr style=\"text-align: right;\">\n      <th></th>\n      <th>REDC</th>\n      <th>County</th>\n      <th>ZIP Code</th>\n      <th>Station Name</th>\n      <th>ID</th>\n      <th>Level 2 Ports</th>\n      <th>Level 2 Locations</th>\n      <th>DCFC Ports</th>\n      <th>DCFC Locations</th>\n      <th>EV Network</th>\n    </tr>\n  </thead>\n  <tbody>\n    <tr>\n      <th>0</th>\n      <td>Western New York</td>\n      <td>Erie County</td>\n      <td>14226</td>\n      <td>AAA Car Care Plus</td>\n      <td>42992</td>\n      <td>1.0</td>\n      <td>1.0</td>\n      <td>NaN</td>\n      <td>NaN</td>\n      <td>Non-Networked</td>\n    </tr>\n    <tr>\n      <th>1</th>\n      <td>Western New York</td>\n      <td>Erie County</td>\n      <td>14221</td>\n      <td>AAA Car Care Plus</td>\n      <td>42993</td>\n      <td>1.0</td>\n      <td>1.0</td>\n      <td>NaN</td>\n      <td>NaN</td>\n      <td>Non-Networked</td>\n    </tr>\n    <tr>\n      <th>2</th>\n      <td>Mid-Hudson</td>\n      <td>Orange County</td>\n      <td>12550</td>\n      <td>Thruway Nissan</td>\n      <td>44174</td>\n      <td>1.0</td>\n      <td>1.0</td>\n      <td>NaN</td>\n      <td>NaN</td>\n      <td>Non-Networked</td>\n    </tr>\n    <tr>\n      <th>3</th>\n      <td>Mohawk Valley</td>\n      <td>Otsego County</td>\n      <td>13820</td>\n      <td>Country Club Imports</td>\n      <td>44176</td>\n      <td>2.0</td>\n      <td>1.0</td>\n      <td>2.0</td>\n      <td>1.0</td>\n      <td>Non-Networked</td>\n    </tr>\n    <tr>\n      <th>4</th>\n      <td>Western New York</td>\n      <td>Erie County</td>\n      <td>14127</td>\n      <td>West-Herr Nissan</td>\n      <td>44178</td>\n      <td>1.0</td>\n      <td>1.0</td>\n      <td>NaN</td>\n      <td>NaN</td>\n      <td>Non-Networked</td>\n    </tr>\n    <tr>\n      <th>...</th>\n      <td>...</td>\n      <td>...</td>\n      <td>...</td>\n      <td>...</td>\n      <td>...</td>\n      <td>...</td>\n      <td>...</td>\n      <td>...</td>\n      <td>...</td>\n      <td>...</td>\n    </tr>\n    <tr>\n      <th>2381</th>\n      <td>Capital Region</td>\n      <td>Saratoga County</td>\n      <td>12065</td>\n      <td>1741 RT 9 EV5</td>\n      <td>185581</td>\n      <td>2.0</td>\n      <td>1.0</td>\n      <td>NaN</td>\n      <td>NaN</td>\n      <td>ChargePoint Network</td>\n    </tr>\n    <tr>\n      <th>2382</th>\n      <td>Long Island</td>\n      <td>Suffolk County</td>\n      <td>11777</td>\n      <td>Mather Hospital</td>\n      <td>185627</td>\n      <td>4.0</td>\n      <td>1.0</td>\n      <td>NaN</td>\n      <td>NaN</td>\n      <td>EV Connect</td>\n    </tr>\n    <tr>\n      <th>2383</th>\n      <td>Capital Region</td>\n      <td>Albany County</td>\n      <td>12205</td>\n      <td>159 WOLF OFFBLD 159 WOLF LEFT</td>\n      <td>185651</td>\n      <td>2.0</td>\n      <td>1.0</td>\n      <td>NaN</td>\n      <td>NaN</td>\n      <td>ChargePoint Network</td>\n    </tr>\n    <tr>\n      <th>2384</th>\n      <td>Capital Region</td>\n      <td>Albany County</td>\n      <td>12205</td>\n      <td>159 WOLF OFFBLD 159 WOLF RIGHT</td>\n      <td>185652</td>\n      <td>2.0</td>\n      <td>1.0</td>\n      <td>NaN</td>\n      <td>NaN</td>\n      <td>ChargePoint Network</td>\n    </tr>\n    <tr>\n      <th>2385</th>\n      <td>Capital Region</td>\n      <td>Albany County</td>\n      <td>12205</td>\n      <td>159 WOLF OFFBLD 159 WOLF MIDDLE</td>\n      <td>185654</td>\n      <td>2.0</td>\n      <td>1.0</td>\n      <td>NaN</td>\n      <td>NaN</td>\n      <td>ChargePoint Network</td>\n    </tr>\n  </tbody>\n</table>\n<p>2386 rows × 10 columns</p>\n</div>"
     },
     "metadata": {},
     "execution_count": 2
    }
   ],
   "source": [
    "data2 = pd.read_csv('ny_stations_clean.csv')\n",
    "data2.sort_values(by=['ID'])\n",
    "data2"
   ]
  },
  {
   "cell_type": "code",
   "execution_count": 3,
   "metadata": {},
   "outputs": [],
   "source": [
    "merged_left = pd.merge(data1, data2, how='left', on='ID')"
   ]
  },
  {
   "cell_type": "code",
   "execution_count": 4,
   "metadata": {
    "tags": []
   },
   "outputs": [
    {
     "output_type": "execute_result",
     "data": {
      "text/plain": [
       "      NaN              NaN        NaN    Capital Region   \n",
       "2378                 NaN              NaN        NaN    Capital Region   \n",
       "2379                 NaN   PARKING_GARAGE        NaN    Capital Region   \n",
       "2380                 NaN   PARKING_GARAGE        NaN    Capital Region   \n",
       "\n",
       "               County            Station Name_y  Level 2 Ports  \\\n",
       "0         Erie County         AAA Car Care Plus            1.0   \n",
       "1         Erie County         AAA Car Care Plus            1.0   \n",
       "2       Orange County            Thruway Nissan            1.0   \n",
       "3       Otsego County      Country Club Imports            2.0   \n",
       "4         Erie County          West-Herr Nissan            1.0   \n",
       "...               ...                       ...            ...   \n",
       "2376  Saratoga County            1741 RT 9 EV 2            2.0   \n",
       "2377  Saratoga County            1741 RT 9 EV 4            2.0   \n",
       "2378  Saratoga County            1741 RT 9 EV 3            2.0   \n",
       "2379    Albany County  Albany Parking Authority            9.0   \n",
       "2380    Albany County  Albany Parking Authority            5.0   \n",
       "\n",
       "      Level 2 Locations  DCFC Ports  DCFC Locations         EV Network_y  \n",
       "0                   1.0         NaN             NaN        Non-Networked  \n",
       "1                   1.0         NaN             NaN        Non-Networked  \n",
       "2                   1.0         NaN             NaN        Non-Networked  \n",
       "3                   1.0         2.0             1.0        Non-Networked  \n",
       "4                   1.0         NaN             NaN        Non-Networked  \n",
       "...                 ...         ...             ...                  ...  \n",
       "2376                1.0         NaN             NaN  ChargePoint Network  \n",
       "2377                1.0         NaN             NaN  ChargePoint Network  \n",
       "2378                1.0         NaN             NaN  ChargePoint Network  \n",
       "2379                1.0         NaN             NaN           EV Connect  \n",
       "2380                1.0         NaN             NaN           EV Connect  \n",
       "\n",
       "[2381 rows x 32 columns]"
      ],
      "text/html": "<div>\n<style scoped>\n    .dataframe tbody tr th:only-of-type {\n        vertical-align: middle;\n    }\n\n    .dataframe tbody tr th {\n        vertical-align: top;\n    }\n\n    .dataframe thead th {\n        text-align: right;\n    }\n</style>\n<table border=\"1\" class=\"dataframe\">\n  <thead>\n    <tr style=\"text-align: right;\">\n      <th></th>\n      <th>Fuel Type Code</th>\n      <th>Station Name_x</th>\n      <th>Street Address</th>\n      <th>City</th>\n      <th>State</th>\n      <th>ZIP</th>\n      <th>Status Code</th>\n      <th>Access Days Time</th>\n      <th>EV Level1 EVSE Num</th>\n      <th>EV Level2 EVSE Num</th>\n      <th>EV DC Fast Count</th>\n      <th>EV Other Info</th>\n      <th>EV Network_x</th>\n      <th>Geocode Status</th>\n      <th>Latitude</th>\n      <th>Longitude</th>\n      <th>ID</th>\n      <th>EV Connector Types</th>\n      <th>Country</th>\n      <th>Access Code</th>\n      <th>Access Detail Code</th>\n      <th>Federal Agency Code</th>\n      <th>Facility Type</th>\n      <th>EV Pricing</th>\n      <th>REDC</th>\n      <th>County</th>\n      <th>Station Name_y</th>\n      <th>Level 2 Ports</th>\n      <th>Level 2 Locations</th>\n      <th>DCFC Ports</th>\n      <th>DCFC Locations</th>\n      <th>EV Network_y</th>\n    </tr>\n  </thead>\n  <tbody>\n    <tr>\n      <th>0</th>\n      <td>ELEC</td>\n      <td>AAA Car Care Plus</td>\n      <td>2131 Eggert Rd</td>\n      <td>Amherst</td>\n      <td>NY</td>\n      <td>14226</td>\n      <td>E</td>\n      <td>24 hours daily</td>\n      <td>NaN</td>\n      <td>1.0</td>\n      <td>NaN</td>\n      <td>NaN</td>\n      <td>Non-Networked</td>\n      <td>200-9</td>\n      <td>42.979363</td>\n      <td>-78.821443</td>\n      <td>42992</td>\n      <td>J1772</td>\n      <td>US</td>\n      <td>public</td>\n      <td>NaN</td>\n      <td>NaN</td>\n      <td>PARKING_LOT</td>\n      <td>Free</td>\n      <td>Western New York</td>\n      <td>Erie County</td>\n      <td>AAA Car Care Plus</td>\n      <td>1.0</td>\n      <td>1.0</td>\n      <td>NaN</td>\n      <td>NaN</td>\n      <td>Non-Networked</td>\n    </tr>\n    <tr>\n      <th>1</th>\n      <td>ELEC</td>\n      <td>AAA Car Care Plus</td>\n      <td>8120 Main St</td>\n      <td>Clarence</td>\n      <td>NY</td>\n      <td>14221</td>\n      <td>E</td>\n      <td>24 hours daily</td>\n      <td>NaN</td>\n      <td>1.0</td>\n      <td>NaN</td>\n      <td>NaN</td>\n      <td>Non-Networked</td>\n      <td>GPS</td>\n      <td>42.965851</td>\n      <td>-78.692780</td>\n      <td>42993</td>\n      <td>J1772</td>\n      <td>US</td>\n      <td>public</td>\n      <td>NaN</td>\n      <td>NaN</td>\n      <td>SHOPPING_CENTER</td>\n      <td>Free</td>\n      <td>Western New York</td>\n      <td>Erie County</td>\n      <td>AAA Car Care Plus</td>\n      <td>1.0</td>\n      <td>1.0</td>\n      <td>NaN</td>\n      <td>NaN</td>\n      <td>Non-Networked</td>\n    </tr>\n    <tr>\n      <th>2</th>\n      <td>ELEC</td>\n      <td>Thruway Nissan</td>\n      <td>79 Route 17K</td>\n      <td>Newburgh</td>\n      <td>NY</td>\n      <td>12550</td>\n      <td>E</td>\n      <td>Dealership business hours</td>\n      <td>NaN</td>\n      <td>1.0</td>\n      <td>NaN</td>\n      <td>NaN</td>\n      <td>Non-Networked</td>\n      <td>200-9</td>\n      <td>41.504105</td>\n      <td>-74.068916</td>\n      <td>44174</td>\n      <td>J1772</td>\n      <td>US</td>\n      <td>public</td>\n      <td>CALL</td>\n      <td>NaN</td>\n      <td>CAR_DEALER</td>\n      <td>Free</td>\n      <td>Mid-Hudson</td>\n      <td>Orange County</td>\n      <td>Thruway Nissan</td>\n      <td>1.0</td>\n      <td>1.0</td>\n      <td>NaN</td>\n      <td>NaN</td>\n      <td>Non-Networked</td>\n    </tr>\n    <tr>\n      <th>3</th>\n      <td>ELEC</td>\n      <td>Country Club Imports</td>\n      <td>55 Oneida St</td>\n      <td>Oneonta</td>\n      <td>NY</td>\n      <td>13820</td>\n      <td>E</td>\n      <td>Dealership business hours; see service desk fo...</td>\n      <td>NaN</td>\n      <td>2.0</td>\n      <td>2.0</td>\n      <td>NaN</td>\n      <td>Non-Networked</td>\n      <td>GPS</td>\n      <td>42.451285</td>\n      <td>-75.100333</td>\n      <td>44176</td>\n      <td>CHADEMO J1772 J1772COMBO</td>\n      <td>US</td>\n      <td>public</td>\n      <td>CALL</td>\n      <td>NaN</td>\n      <td>CAR_DEALER</td>\n      <td>Free</td>\n      <td>Mohawk Valley</td>\n      <td>Otsego County</td>\n      <td>Country Club Imports</td>\n      <td>2.0</td>\n      <td>1.0</td>\n      <td>2.0</td>\n      <td>1.0</td>\n      <td>Non-Networked</td>\n    </tr>\n    <tr>\n      <th>4</th>\n      <td>ELEC</td>\n      <td>West-Herr Nissan</td>\n      <td>3580 Southwestern Blvd</td>\n      <td>Orchard Park</td>\n      <td>NY</td>\n      <td>14127</td>\n      <td>E</td>\n      <td>Dealership business hours</td>\n      <td>NaN</td>\n      <td>1.0</td>\n      <td>NaN</td>\n      <td>NaN</td>\n      <td>Non-Networked</td>\n      <td>200-9</td>\n      <td>42.784867</td>\n      <td>-78.765580</td>\n      <td>44178</td>\n      <td>J1772</td>\n      <td>US</td>\n      <td>public</td>\n      <td>CALL</td>\n      <td>NaN</td>\n      <td>CAR_DEALER</td>\n      <td>Free</td>\n      <td>Western New York</td>\n      <td>Erie County</td>\n      <td>West-Herr Nissan</td>\n      <td>1.0</td>\n      <td>1.0</td>\n      <td>NaN</td>\n      <td>NaN</td>\n      <td>Non-Networked</td>\n    </tr>\n    <tr>\n      <th>...</th>\n      <td>...</td>\n      <td>...</td>\n      <td>...</td>\n      <td>...</td>\n      <td>...</td>\n      <td>...</td>\n      <td>...</td>\n      <td>...</td>\n      <td>...</td>\n      <td>...</td>\n      <td>...</td>\n      <td>...</td>\n      <td>...</td>\n      <td>...</td>\n      <td>...</td>\n      <td>...</td>\n      <td>...</td>\n      <td>...</td>\n      <td>...</td>\n      <td>...</td>\n      <td>...</td>\n      <td>...</td>\n      <td>...</td>\n      <td>...</td>\n      <td>...</td>\n      <td>...</td>\n      <td>...</td>\n      <td>...</td>\n      <td>...</td>\n      <td>...</td>\n      <td>...</td>\n      <td>...</td>\n    </tr>\n    <tr>\n      <th>2376</th>\n      <td>ELEC</td>\n      <td>1741 RT 9 EV 2</td>\n      <td>1741 U.S. 9</td>\n      <td>Clifton Park</td>\n      <td>NY</td>\n      <td>12065</td>\n      <td>E</td>\n      <td>24 hours daily</td>\n      <td>NaN</td>\n      <td>2.0</td>\n      <td>NaN</td>\n      <td>NaN</td>\n      <td>ChargePoint Network</td>\n      <td>GPS</td>\n      <td>42.869247</td>\n      <td>-73.772964</td>\n      <td>185428</td>\n      <td>J1772</td>\n      <td>US</td>\n      <td>public</td>\n      <td>NaN</td>\n      <td>NaN</td>\n      <td>NaN</td>\n      <td>NaN</td>\n      <td>Capital Region</td>\n      <td>Saratoga County</td>\n      <td>1741 RT 9 EV 2</td>\n      <td>2.0</td>\n      <td>1.0</td>\n      <td>NaN</td>\n      <td>NaN</td>\n      <td>ChargePoint Network</td>\n    </tr>\n    <tr>\n      <th>2377</th>\n      <td>ELEC</td>\n      <td>1741 RT 9 EV 4</td>\n      <td>1741 U.S. 9</td>\n      <td>Clifton Park</td>\n      <td>NY</td>\n      <td>12065</td>\n      <td>E</td>\n      <td>24 hours daily</td>\n      <td>NaN</td>\n      <td>2.0</td>\n      <td>NaN</td>\n      <td>NaN</td>\n      <td>ChargePoint Network</td>\n      <td>GPS</td>\n      <td>42.869247</td>\n      <td>-73.773056</td>\n      <td>185434</td>\n      <td>J1772</td>\n      <td>US</td>\n      <td>public</td>\n      <td>NaN</td>\n      <td>NaN</td>\n      <td>NaN</td>\n      <td>NaN</td>\n      <td>Capital Region</td>\n      <td>Saratoga County</td>\n      <td>1741 RT 9 EV 4</td>\n      <td>2.0</td>\n      <td>1.0</td>\n      <td>NaN</td>\n      <td>NaN</td>\n      <td>ChargePoint Network</td>\n    </tr>\n    <tr>\n      <th>2378</th>\n      <td>ELEC</td>\n      <td>1741 RT 9 EV 3</td>\n      <td>1741 U.S. 9</td>\n      <td>Clifton Park</td>\n      <td>NY</td>\n      <td>12065</td>\n      <td>E</td>\n      <td>24 hours daily</td>\n      <td>NaN</td>\n      <td>2.0</td>\n      <td>NaN</td>\n      <td>NaN</td>\n      <td>ChargePoint Network</td>\n      <td>GPS</td>\n      <td>42.869220</td>\n      <td>-73.773080</td>\n      <td>185435</td>\n      <td>J1772</td>\n      <td>US</td>\n      <td>public</td>\n      <td>NaN</td>\n      <td>NaN</td>\n      <td>NaN</td>\n      <td>NaN</td>\n      <td>Capital Region</td>\n      <td>Saratoga County</td>\n      <td>1741 RT 9 EV 3</td>\n      <td>2.0</td>\n      <td>1.0</td>\n      <td>NaN</td>\n      <td>NaN</td>\n      <td>ChargePoint Network</td>\n    </tr>\n    <tr>\n      <th>2379</th>\n      <td>ELEC</td>\n      <td>Albany Parking Authority</td>\n      <td>25 Orange St</td>\n      <td>Albany</td>\n      <td>NY</td>\n      <td>12207</td>\n      <td>E</td>\n      <td>24 hours daily; also Accepts PayPal</td>\n      <td>NaN</td>\n      <td>9.0</td>\n      <td>NaN</td>\n      <td>NaN</td>\n      <td>EV Connect</td>\n      <td>200-8</td>\n      <td>42.653388</td>\n      <td>-73.749132</td>\n      <td>185448</td>\n      <td>J1772</td>\n      <td>US</td>\n      <td>public</td>\n      <td>NaN</td>\n      <td>NaN</td>\n      <td>PARKING_GARAGE</td>\n      <td>NaN</td>\n      <td>Capital Region</td>\n      <td>Albany County</td>\n      <td>Albany Parking Authority</td>\n      <td>9.0</td>\n      <td>1.0</td>\n      <td>NaN</td>\n      <td>NaN</td>\n      <td>EV Connect</td>\n    </tr>\n    <tr>\n      <th>2380</th>\n      <td>ELEC</td>\n      <td>Albany Parking Authority</td>\n      <td>2 Columbia St</td>\n      <td>Albany</td>\n      <td>NY</td>\n      <td>12207</td>\n      <td>E</td>\n      <td>24 hours daily</td>\n      <td>NaN</td>\n      <td>5.0</td>\n      <td>NaN</td>\n      <td>NaN</td>\n      <td>EV Connect</td>\n      <td>GPS</td>\n      <td>42.650590</td>\n      <td>-73.749073</td>\n      <td>185449</td>\n      <td>J1772</td>\n      <td>US</td>\n      <td>public</td>\n      <td>NaN</td>\n      <td>NaN</td>\n      <td>PARKING_GARAGE</td>\n      <td>NaN</td>\n      <td>Capital Region</td>\n      <td>Albany County</td>\n      <td>Albany Parking Authority</td>\n      <td>5.0</td>\n      <td>1.0</td>\n      <td>NaN</td>\n      <td>NaN</td>\n      <td>EV Connect</td>\n    </tr>\n  </tbody>\n</table>\n<p>2381 rows × 32 columns</p>\n</div>"
     },
     "metadata": {},
     "execution_count": 4
    }
   ],
   "source": [
    "nans = merged_left[merged_left['REDC'].isna()].index\n",
    "merged_left = merged_left.drop(nans)\n",
    "new_indexes = []\n",
    "for i in range(merged_left.shape[0]):\n",
    "    new_indexes.append(i)\n",
    "merged_left.index = new_indexes\n",
    "merged_left = merged_left.drop(['ZIP Code'], axis=1)\n",
    "merged_left"
   ]
  },
  {
   "cell_type": "code",
   "execution_count": 5,
   "metadata": {},
   "outputs": [],
   "source": [
    "merged_left.to_csv('locations_clean.csv')"
   ]
  },
  {
   "source": [
    "# Map Visualizations"
   ],
   "cell_type": "markdown",
   "metadata": {}
  },
  {
   "cell_type": "code",
   "execution_count": 9,
   "metadata": {},
   "outputs": [
    {
     "output_type": "execute_result",
     "data": {
      "text/plain": [
       " \n",
       "975   New York City  New York County   \n",
       "...             ...              ...   \n",
       "1304  New York City  New York County   \n",
       "1305  New York City  New York County   \n",
       "1306  New York City  New York County   \n",
       "1307  New York City  New York County   \n",
       "1308  New York City  New York County   \n",
       "\n",
       "                                 Station Name_y  Level 2 Ports  \\\n",
       "971                 Port Authority Bus Terminal            2.0   \n",
       "972   Delancey & Essex Municipal Parking Garage            5.0   \n",
       "973                                    Spectrum            8.0   \n",
       "974                  Central Parking - Tower 31            2.0   \n",
       "975              iPark - 59 Allen Street Garage            2.0   \n",
       "...                                         ...            ...   \n",
       "1304                          TATABROOKFIELD #5            1.0   \n",
       "1305                          TATABROOKFIELD #4            1.0   \n",
       "1306                    35 SUTTON 1 SUTTON PL 2            2.0   \n",
       "1307                   NYC FLEET DPR_ICAHN_3_L3            NaN   \n",
       "1308                   NYC FLEET DPR_ICAHN_2_L3            NaN   \n",
       "\n",
       "      Level 2 Locations  DCFC Ports  DCFC Locations         EV Network_y  \n",
       "971                 1.0         NaN             NaN           EV Connect  \n",
       "972                 1.0         NaN             NaN           EV Connect  \n",
       "973                 1.0         NaN             NaN           EV Connect  \n",
       "974                 1.0         NaN             NaN        Blink Network  \n",
       "975                 1.0         NaN             NaN        Blink Network  \n",
       "...                 ...         ...             ...                  ...  \n",
       "1304                1.0         NaN             NaN  ChargePoint Network  \n",
       "1305                1.0         NaN             NaN  ChargePoint Network  \n",
       "1306                1.0         NaN             NaN  ChargePoint Network  \n",
       "1307                NaN         1.0             1.0  ChargePoint Network  \n",
       "1308                NaN         1.0             1.0  ChargePoint Network  \n",
       "\n",
       "[338 rows x 33 columns]"
      ],
      "text/html": "<div>\n<style scoped>\n    .dataframe tbody tr th:only-of-type {\n        vertical-align: middle;\n    }\n\n    .dataframe tbody tr th {\n        vertical-align: top;\n    }\n\n    .dataframe thead th {\n        text-align: right;\n    }\n</style>\n<table border=\"1\" class=\"dataframe\">\n  <thead>\n    <tr style=\"text-align: right;\">\n      <th></th>\n      <th>Unnamed: 0</th>\n      <th>Fuel Type Code</th>\n      <th>Station Name_x</th>\n      <th>Street Address</th>\n      <th>City</th>\n      <th>State</th>\n      <th>ZIP</th>\n      <th>Status Code</th>\n      <th>Access Days Time</th>\n      <th>EV Level1 EVSE Num</th>\n      <th>EV Level2 EVSE Num</th>\n      <th>EV DC Fast Count</th>\n      <th>EV Other Info</th>\n      <th>EV Network_x</th>\n      <th>Geocode Status</th>\n      <th>Latitude</th>\n      <th>Longitude</th>\n      <th>ID</th>\n      <th>EV Connector Types</th>\n      <th>Country</th>\n      <th>Access Code</th>\n      <th>Access Detail Code</th>\n      <th>Federal Agency Code</th>\n      <th>Facility Type</th>\n      <th>EV Pricing</th>\n      <th>REDC</th>\n      <th>County</th>\n      <th>Station Name_y</th>\n      <th>Level 2 Ports</th>\n      <th>Level 2 Locations</th>\n      <th>DCFC Ports</th>\n      <th>DCFC Locations</th>\n      <th>EV Network_y</th>\n    </tr>\n  </thead>\n  <tbody>\n    <tr>\n      <th>971</th>\n      <td>86</td>\n      <td>ELEC</td>\n      <td>Port Authority Bus Terminal</td>\n      <td>625 8th Ave</td>\n      <td>New York</td>\n      <td>NY</td>\n      <td>10018</td>\n      <td>E</td>\n      <td>24 hours daily</td>\n      <td>NaN</td>\n      <td>2.0</td>\n      <td>NaN</td>\n      <td>NaN</td>\n      <td>EV Connect</td>\n      <td>200-8</td>\n      <td>40.756177</td>\n      <td>-73.990558</td>\n      <td>65287</td>\n      <td>J1772</td>\n      <td>US</td>\n      <td>public</td>\n      <td>NaN</td>\n      <td>NaN</td>\n      <td>PARKING_GARAGE</td>\n      <td>NaN</td>\n      <td>New York City</td>\n      <td>New York County</td>\n      <td>Port Authority Bus Terminal</td>\n      <td>2.0</td>\n      <td>1.0</td>\n      <td>NaN</td>\n      <td>NaN</td>\n      <td>EV Connect</td>\n    </tr>\n    <tr>\n      <th>972</th>\n      <td>165</td>\n      <td>ELEC</td>\n      <td>Delancey &amp; Essex Municipal Parking Garage</td>\n      <td>107 Essex St</td>\n      <td>Manhattan</td>\n      <td>NY</td>\n      <td>10002</td>\n      <td>E</td>\n      <td>24 hours daily</td>\n      <td>NaN</td>\n      <td>5.0</td>\n      <td>NaN</td>\n      <td>NaN</td>\n      <td>EV Connect</td>\n      <td>200-8</td>\n      <td>40.719051</td>\n      <td>-73.988181</td>\n      <td>94848</td>\n      <td>J1772</td>\n      <td>US</td>\n      <td>public</td>\n      <td>NaN</td>\n      <td>NaN</td>\n      <td>MUNI_GOV</td>\n      <td>NaN</td>\n      <td>New York City</td>\n      <td>New York County</td>\n      <td>Delancey &amp; Essex Municipal Parking Garage</td>\n      <td>5.0</td>\n      <td>1.0</td>\n      <td>NaN</td>\n      <td>NaN</td>\n      <td>EV Connect</td>\n    </tr>\n    <tr>\n      <th>973</th>\n      <td>170</td>\n      <td>ELEC</td>\n      <td>Spectrum</td>\n      <td>401 W 219th St</td>\n      <td>New York</td>\n      <td>NY</td>\n      <td>10034</td>\n      <td>E</td>\n      <td>Office business hours; for employee and guest ...</td>\n      <td>NaN</td>\n      <td>8.0</td>\n      <td>NaN</td>\n      <td>NaN</td>\n      <td>EV Connect</td>\n      <td>200-8</td>\n      <td>40.871210</td>\n      <td>-73.911616</td>\n      <td>94854</td>\n      <td>J1772</td>\n      <td>US</td>\n      <td>public</td>\n      <td>NaN</td>\n      <td>NaN</td>\n      <td>OFFICE_BLDG</td>\n      <td>NaN</td>\n      <td>New York City</td>\n      <td>New York County</td>\n      <td>Spectrum</td>\n      <td>8.0</td>\n      <td>1.0</td>\n      <td>NaN</td>\n      <td>NaN</td>\n      <td>EV Connect</td>\n    </tr>\n    <tr>\n      <th>974</th>\n      <td>183</td>\n      <td>ELEC</td>\n      <td>Central Parking - Tower 31</td>\n      <td>9 W 31st Street</td>\n      <td>New York</td>\n      <td>NY</td>\n      <td>10001</td>\n      <td>E</td>\n      <td>MON: 24 hours | TUE: 24 hours | WED: 24 hours ...</td>\n      <td>NaN</td>\n      <td>1.0</td>\n      <td>NaN</td>\n      <td>NaN</td>\n      <td>Blink Network</td>\n      <td>GPS</td>\n      <td>40.747098</td>\n      <td>-73.986641</td>\n      <td>95069</td>\n      <td>J1772</td>\n      <td>US</td>\n      <td>public</td>\n      <td>NaN</td>\n      <td>NaN</td>\n      <td>NaN</td>\n      <td>Level 2: $0.59 per kWh</td>\n      <td>New York City</td>\n      <td>New York County</td>\n      <td>Central Parking - Tower 31</td>\n      <td>2.0</td>\n      <td>1.0</td>\n      <td>NaN</td>\n      <td>NaN</td>\n      <td>Blink Network</td>\n    </tr>\n    <tr>\n      <th>975</th>\n      <td>186</td>\n      <td>ELEC</td>\n      <td>iPark - 59 Allen Street Garage</td>\n      <td>59 Allen Street</td>\n      <td>New York</td>\n      <td>NY</td>\n      <td>10002</td>\n      <td>E</td>\n      <td>MON: 24 hours | TUE: 24 hours | WED: 24 hours ...</td>\n      <td>NaN</td>\n      <td>2.0</td>\n      <td>NaN</td>\n      <td>NaN</td>\n      <td>Blink Network</td>\n      <td>GPS</td>\n      <td>40.717195</td>\n      <td>-73.991658</td>\n      <td>95271</td>\n      <td>J1772</td>\n      <td>US</td>\n      <td>public</td>\n      <td>NaN</td>\n      <td>NaN</td>\n      <td>NaN</td>\n      <td>Level 2: $0.59 per kWh</td>\n      <td>New York City</td>\n      <td>New York County</td>\n      <td>iPark - 59 Allen Street Garage</td>\n      <td>2.0</td>\n      <td>1.0</td>\n      <td>NaN</td>\n      <td>NaN</td>\n      <td>Blink Network</td>\n    </tr>\n    <tr>\n      <th>...</th>\n      <td>...</td>\n      <td>...</td>\n      <td>...</td>\n      <td>...</td>\n      <td>...</td>\n      <td>...</td>\n      <td>...</td>\n      <td>...</td>\n      <td>...</td>\n      <td>...</td>\n      <td>...</td>\n      <td>...</td>\n      <td>...</td>\n      <td>...</td>\n      <td>...</td>\n      <td>...</td>\n      <td>...</td>\n      <td>...</td>\n      <td>...</td>\n      <td>...</td>\n      <td>...</td>\n      <td>...</td>\n      <td>...</td>\n      <td>...</td>\n      <td>...</td>\n      <td>...</td>\n      <td>...</td>\n      <td>...</td>\n      <td>...</td>\n      <td>...</td>\n      <td>...</td>\n      <td>...</td>\n      <td>...</td>\n    </tr>\n    <tr>\n      <th>1304</th>\n      <td>1923</td>\n      <td>ELEC</td>\n      <td>TATABROOKFIELD #5</td>\n      <td>11 E Loop Rd</td>\n      <td>New York</td>\n      <td>NY</td>\n      <td>10044</td>\n      <td>E</td>\n      <td>24 hours daily</td>\n      <td>NaN</td>\n      <td>1.0</td>\n      <td>NaN</td>\n      <td>NaN</td>\n      <td>ChargePoint Network</td>\n      <td>GPS</td>\n      <td>40.755142</td>\n      <td>-73.955600</td>\n      <td>174184</td>\n      <td>J1772</td>\n      <td>US</td>\n      <td>public</td>\n      <td>NaN</td>\n      <td>NaN</td>\n      <td>NaN</td>\n      <td>NaN</td>\n      <td>New York City</td>\n      <td>New York County</td>\n      <td>TATABROOKFIELD #5</td>\n      <td>1.0</td>\n      <td>1.0</td>\n      <td>NaN</td>\n      <td>NaN</td>\n      <td>ChargePoint Network</td>\n    </tr>\n    <tr>\n      <th>1305</th>\n      <td>1924</td>\n      <td>ELEC</td>\n      <td>TATABROOKFIELD #4</td>\n      <td>11 E Loop Rd</td>\n      <td>New York</td>\n      <td>NY</td>\n      <td>10044</td>\n      <td>E</td>\n      <td>24 hours daily</td>\n      <td>NaN</td>\n      <td>1.0</td>\n      <td>NaN</td>\n      <td>NaN</td>\n      <td>ChargePoint Network</td>\n      <td>GPS</td>\n      <td>40.755108</td>\n      <td>-73.955605</td>\n      <td>174185</td>\n      <td>J1772</td>\n      <td>US</td>\n      <td>public</td>\n      <td>NaN</td>\n      <td>NaN</td>\n      <td>NaN</td>\n      <td>NaN</td>\n      <td>New York City</td>\n      <td>New York County</td>\n      <td>TATABROOKFIELD #4</td>\n      <td>1.0</td>\n      <td>1.0</td>\n      <td>NaN</td>\n      <td>NaN</td>\n      <td>ChargePoint Network</td>\n    </tr>\n    <tr>\n      <th>1306</th>\n      <td>1970</td>\n      <td>ELEC</td>\n      <td>35 SUTTON 1 SUTTON PL 2</td>\n      <td>35 Sutton Pl</td>\n      <td>New York</td>\n      <td>NY</td>\n      <td>10022</td>\n      <td>E</td>\n      <td>24 hours daily</td>\n      <td>NaN</td>\n      <td>2.0</td>\n      <td>NaN</td>\n      <td>NaN</td>\n      <td>ChargePoint Network</td>\n      <td>GPS</td>\n      <td>40.758240</td>\n      <td>-73.959670</td>\n      <td>174616</td>\n      <td>J1772</td>\n      <td>US</td>\n      <td>public</td>\n      <td>NaN</td>\n      <td>NaN</td>\n      <td>NaN</td>\n      <td>NaN</td>\n      <td>New York City</td>\n      <td>New York County</td>\n      <td>35 SUTTON 1 SUTTON PL 2</td>\n      <td>2.0</td>\n      <td>1.0</td>\n      <td>NaN</td>\n      <td>NaN</td>\n      <td>ChargePoint Network</td>\n    </tr>\n    <tr>\n      <th>1307</th>\n      <td>2244</td>\n      <td>ELEC</td>\n      <td>NYC FLEET DPR_ICAHN_3_L3</td>\n      <td>10 Central Rd</td>\n      <td>New York</td>\n      <td>NY</td>\n      <td>10035</td>\n      <td>E</td>\n      <td>24 hours daily</td>\n      <td>NaN</td>\n      <td>NaN</td>\n      <td>1.0</td>\n      <td>NaN</td>\n      <td>ChargePoint Network</td>\n      <td>GPS</td>\n      <td>40.792300</td>\n      <td>-73.924680</td>\n      <td>181932</td>\n      <td>CHADEMO J1772COMBO</td>\n      <td>US</td>\n      <td>public</td>\n      <td>NaN</td>\n      <td>NaN</td>\n      <td>NaN</td>\n      <td>NaN</td>\n      <td>New York City</td>\n      <td>New York County</td>\n      <td>NYC FLEET DPR_ICAHN_3_L3</td>\n      <td>NaN</td>\n      <td>NaN</td>\n      <td>1.0</td>\n      <td>1.0</td>\n      <td>ChargePoint Network</td>\n    </tr>\n    <tr>\n      <th>1308</th>\n      <td>2245</td>\n      <td>ELEC</td>\n      <td>NYC FLEET DPR_ICAHN_2_L3</td>\n      <td>10 Central Rd</td>\n      <td>New York</td>\n      <td>NY</td>\n      <td>10035</td>\n      <td>E</td>\n      <td>24 hours daily</td>\n      <td>NaN</td>\n      <td>NaN</td>\n      <td>1.0</td>\n      <td>NaN</td>\n      <td>ChargePoint Network</td>\n      <td>GPS</td>\n      <td>40.792370</td>\n      <td>-73.924644</td>\n      <td>181933</td>\n      <td>CHADEMO J1772COMBO</td>\n      <td>US</td>\n      <td>public</td>\n      <td>NaN</td>\n      <td>NaN</td>\n      <td>NaN</td>\n      <td>NaN</td>\n      <td>New York City</td>\n      <td>New York County</td>\n      <td>NYC FLEET DPR_ICAHN_2_L3</td>\n      <td>NaN</td>\n      <td>NaN</td>\n      <td>1.0</td>\n      <td>1.0</td>\n      <td>ChargePoint Network</td>\n    </tr>\n  </tbody>\n</table>\n<p>338 rows × 33 columns</p>\n</div>"
     },
     "metadata": {},
     "execution_count": 9
    }
   ],
   "source": [
    "df = pd.read_csv('locations_clean.csv')\n",
    "df[df['County'] == 'New York County']"
   ]
  },
  {
   "cell_type": "code",
   "execution_count": null,
   "metadata": {},
   "outputs": [],
   "source": []
  }
 ],
 "metadata": {
  "kernelspec": {
   "display_name": "Python 3",
   "language": "python",
   "name": "python3"
  },
  "language_info": {
   "codemirror_mode": {
    "name": "ipython",
    "version": 3
   },
   "file_extension": ".py",
   "mimetype": "text/x-python",
   "name": "python",
   "nbconvert_exporter": "python",
   "pygments_lexer": "ipython3",
   "version": "3.8.5-final"
  }
 },
 "nbformat": 4,
 "nbformat_minor": 2
}